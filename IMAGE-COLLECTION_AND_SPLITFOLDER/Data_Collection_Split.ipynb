{
 "cells": [
  {
   "cell_type": "code",
   "execution_count": 3,
   "id": "4252b9f1",
   "metadata": {},
   "outputs": [],
   "source": [
    "# Author: Helal Chowdhury"
   ]
  },
  {
   "cell_type": "code",
   "execution_count": 4,
   "id": "b8ca4ad2",
   "metadata": {},
   "outputs": [],
   "source": [
    "# Import libraries"
   ]
  },
  {
   "cell_type": "code",
   "execution_count": 5,
   "id": "dc786f38",
   "metadata": {},
   "outputs": [],
   "source": [
    "import requests\n",
    "import math\n",
    "import shutil\n",
    "from getpass import getpass\n",
    "from PIL import Image, UnidentifiedImageError\n",
    "from requests.exceptions import HTTPError\n",
    "from io import BytesIO\n",
    "from pathlib import Path\n",
    "import itertools\n",
    "import glob\n"
   ]
  },
  {
   "cell_type": "code",
   "execution_count": 6,
   "id": "fe889627",
   "metadata": {},
   "outputs": [],
   "source": [
    "# Download images from net. In this example, three items: Cat, Dog, and Lion are choosen"
   ]
  },
  {
   "cell_type": "code",
   "execution_count": 7,
   "id": "5bcb47e5",
   "metadata": {},
   "outputs": [],
   "source": [
    "term_1 = \"Cat\" \n",
    "term_2 = \"Dog\" \n",
    "term_3 = \"Lion\" \n",
    "term_4 = \"\" \n",
    "term_5 = \"\" \n",
    "\n",
    "search_terms = sorted([\n",
    "    term_1,\n",
    "    term_2,\n",
    "    term_3,\n",
    "    term_4,\n",
    "    term_5\n",
    "])\n",
    "\n",
    "search_terms = [x for x in search_terms if x.strip() != '']"
   ]
  },
  {
   "cell_type": "code",
   "execution_count": 8,
   "id": "3df8dd47",
   "metadata": {},
   "outputs": [],
   "source": [
    "# Huggingface search API "
   ]
  },
  {
   "cell_type": "code",
   "execution_count": 4,
   "id": "e632e1f3",
   "metadata": {},
   "outputs": [],
   "source": [
    "SEARCH_URL = \"https://huggingface.co/api/experimental/images/search\"\n",
    "\n",
    "def get_image_urls_by_term(search_term: str, count=50):\n",
    "    params  = {\"q\": search_term, \"license\": \"public\", \"imageType\": \"photo\", \"count\": count}\n",
    "    response = requests.get(SEARCH_URL, params=params)\n",
    "    response.raise_for_status()\n",
    "    response_data = response.json()\n",
    "    image_urls = [img['thumbnailUrl'] for img in response_data['value']]\n",
    "    return image_urls\n",
    "\n",
    "\n",
    "def gen_images_from_urls(urls):\n",
    "    num_skipped = 0\n",
    "    for url in urls:\n",
    "        response = requests.get(url)\n",
    "        if not response.status_code == 200:\n",
    "            num_skipped += 1\n",
    "        try:\n",
    "            img = Image.open(BytesIO(response.content))\n",
    "            yield img\n",
    "        except UnidentifiedImageError:\n",
    "            num_skipped +=1\n",
    "\n",
    "    print(f\"Retrieved {len(urls) - num_skipped} images. Skipped {num_skipped}.\")\n",
    "\n",
    "\n",
    "def urls_to_image_folder(urls, save_directory):\n",
    "    for i, image in enumerate(gen_images_from_urls(urls)):\n",
    "        image.save(save_directory / f'{i}.jpg')"
   ]
  },
  {
   "cell_type": "code",
   "execution_count": null,
   "id": "d02c465b",
   "metadata": {},
   "outputs": [],
   "source": [
    "# Huggingface API will create folder \"images\" and download images accordig to the item names"
   ]
  },
  {
   "cell_type": "code",
   "execution_count": 5,
   "id": "aa931cef",
   "metadata": {},
   "outputs": [
    {
     "name": "stdout",
     "output_type": "stream",
     "text": [
      "Saving images of Cat to images/Cat...\n",
      "Retrieved 50 images. Skipped 0.\n",
      "Saving images of Dog to images/Dog...\n",
      "Retrieved 50 images. Skipped 0.\n",
      "Saving images of Lion to images/Lion...\n",
      "Retrieved 50 images. Skipped 0.\n"
     ]
    }
   ],
   "source": [
    "data_dir = Path('images')\n",
    "\n",
    "if data_dir.exists():\n",
    "    shutil.rmtree(data_dir)\n",
    "\n",
    "for search_term in search_terms:\n",
    "    search_term_dir = data_dir / search_term\n",
    "    search_term_dir.mkdir(exist_ok=True, parents=True)\n",
    "    urls = get_image_urls_by_term(search_term)\n",
    "    #print(urls)\n",
    "    print(f\"Saving images of {search_term} to {str(search_term_dir)}...\")\n",
    "    urls_to_image_folder(urls, search_term_dir)"
   ]
  },
  {
   "cell_type": "code",
   "execution_count": null,
   "id": "bd28fb81",
   "metadata": {},
   "outputs": [],
   "source": [
    "# create folder"
   ]
  },
  {
   "cell_type": "code",
   "execution_count": 6,
   "id": "01f8df2b",
   "metadata": {},
   "outputs": [],
   "source": [
    "!mkdir Output"
   ]
  },
  {
   "cell_type": "code",
   "execution_count": null,
   "id": "00fd96d2",
   "metadata": {},
   "outputs": [],
   "source": [
    "# import splitfolders library"
   ]
  },
  {
   "cell_type": "code",
   "execution_count": 7,
   "id": "74ecd7c5",
   "metadata": {},
   "outputs": [],
   "source": [
    "import splitfolders"
   ]
  },
  {
   "cell_type": "code",
   "execution_count": 8,
   "id": "114682c4",
   "metadata": {},
   "outputs": [
    {
     "name": "stdout",
     "output_type": "stream",
     "text": [
      "\u001b[01;34m.\u001b[00m\r\n",
      "├── Data_Collection_Split.ipynb\r\n",
      "├── \u001b[01;34mimages\u001b[00m\r\n",
      "│   ├── \u001b[01;34mCat\u001b[00m\r\n",
      "│   │   ├── \u001b[01;35m0.jpg\u001b[00m\r\n",
      "│   │   ├── \u001b[01;35m10.jpg\u001b[00m\r\n",
      "│   │   ├── \u001b[01;35m11.jpg\u001b[00m\r\n",
      "│   │   ├── \u001b[01;35m12.jpg\u001b[00m\r\n",
      "│   │   ├── \u001b[01;35m13.jpg\u001b[00m\r\n",
      "│   │   ├── \u001b[01;35m14.jpg\u001b[00m\r\n",
      "│   │   ├── \u001b[01;35m15.jpg\u001b[00m\r\n",
      "│   │   ├── \u001b[01;35m16.jpg\u001b[00m\r\n",
      "│   │   ├── \u001b[01;35m17.jpg\u001b[00m\r\n",
      "│   │   ├── \u001b[01;35m18.jpg\u001b[00m\r\n",
      "│   │   ├── \u001b[01;35m19.jpg\u001b[00m\r\n",
      "│   │   ├── \u001b[01;35m1.jpg\u001b[00m\r\n",
      "│   │   ├── \u001b[01;35m20.jpg\u001b[00m\r\n",
      "│   │   ├── \u001b[01;35m21.jpg\u001b[00m\r\n",
      "│   │   ├── \u001b[01;35m22.jpg\u001b[00m\r\n",
      "│   │   ├── \u001b[01;35m23.jpg\u001b[00m\r\n",
      "│   │   ├── \u001b[01;35m24.jpg\u001b[00m\r\n",
      "│   │   ├── \u001b[01;35m25.jpg\u001b[00m\r\n",
      "│   │   ├── \u001b[01;35m26.jpg\u001b[00m\r\n",
      "│   │   ├── \u001b[01;35m27.jpg\u001b[00m\r\n",
      "│   │   ├── \u001b[01;35m28.jpg\u001b[00m\r\n",
      "│   │   ├── \u001b[01;35m29.jpg\u001b[00m\r\n",
      "│   │   ├── \u001b[01;35m2.jpg\u001b[00m\r\n",
      "│   │   ├── \u001b[01;35m30.jpg\u001b[00m\r\n",
      "│   │   ├── \u001b[01;35m31.jpg\u001b[00m\r\n",
      "│   │   ├── \u001b[01;35m32.jpg\u001b[00m\r\n",
      "│   │   ├── \u001b[01;35m33.jpg\u001b[00m\r\n",
      "│   │   ├── \u001b[01;35m34.jpg\u001b[00m\r\n",
      "│   │   ├── \u001b[01;35m35.jpg\u001b[00m\r\n",
      "│   │   ├── \u001b[01;35m36.jpg\u001b[00m\r\n",
      "│   │   ├── \u001b[01;35m37.jpg\u001b[00m\r\n",
      "│   │   ├── \u001b[01;35m38.jpg\u001b[00m\r\n",
      "│   │   ├── \u001b[01;35m39.jpg\u001b[00m\r\n",
      "│   │   ├── \u001b[01;35m3.jpg\u001b[00m\r\n",
      "│   │   ├── \u001b[01;35m40.jpg\u001b[00m\r\n",
      "│   │   ├── \u001b[01;35m41.jpg\u001b[00m\r\n",
      "│   │   ├── \u001b[01;35m42.jpg\u001b[00m\r\n",
      "│   │   ├── \u001b[01;35m43.jpg\u001b[00m\r\n",
      "│   │   ├── \u001b[01;35m44.jpg\u001b[00m\r\n",
      "│   │   ├── \u001b[01;35m45.jpg\u001b[00m\r\n",
      "│   │   ├── \u001b[01;35m46.jpg\u001b[00m\r\n",
      "│   │   ├── \u001b[01;35m47.jpg\u001b[00m\r\n",
      "│   │   ├── \u001b[01;35m48.jpg\u001b[00m\r\n",
      "│   │   ├── \u001b[01;35m49.jpg\u001b[00m\r\n",
      "│   │   ├── \u001b[01;35m4.jpg\u001b[00m\r\n",
      "│   │   ├── \u001b[01;35m5.jpg\u001b[00m\r\n",
      "│   │   ├── \u001b[01;35m6.jpg\u001b[00m\r\n",
      "│   │   ├── \u001b[01;35m7.jpg\u001b[00m\r\n",
      "│   │   ├── \u001b[01;35m8.jpg\u001b[00m\r\n",
      "│   │   └── \u001b[01;35m9.jpg\u001b[00m\r\n",
      "│   ├── \u001b[01;34mDog\u001b[00m\r\n",
      "│   │   ├── \u001b[01;35m0.jpg\u001b[00m\r\n",
      "│   │   ├── \u001b[01;35m10.jpg\u001b[00m\r\n",
      "│   │   ├── \u001b[01;35m11.jpg\u001b[00m\r\n",
      "│   │   ├── \u001b[01;35m12.jpg\u001b[00m\r\n",
      "│   │   ├── \u001b[01;35m13.jpg\u001b[00m\r\n",
      "│   │   ├── \u001b[01;35m14.jpg\u001b[00m\r\n",
      "│   │   ├── \u001b[01;35m15.jpg\u001b[00m\r\n",
      "│   │   ├── \u001b[01;35m16.jpg\u001b[00m\r\n",
      "│   │   ├── \u001b[01;35m17.jpg\u001b[00m\r\n",
      "│   │   ├── \u001b[01;35m18.jpg\u001b[00m\r\n",
      "│   │   ├── \u001b[01;35m19.jpg\u001b[00m\r\n",
      "│   │   ├── \u001b[01;35m1.jpg\u001b[00m\r\n",
      "│   │   ├── \u001b[01;35m20.jpg\u001b[00m\r\n",
      "│   │   ├── \u001b[01;35m21.jpg\u001b[00m\r\n",
      "│   │   ├── \u001b[01;35m22.jpg\u001b[00m\r\n",
      "│   │   ├── \u001b[01;35m23.jpg\u001b[00m\r\n",
      "│   │   ├── \u001b[01;35m24.jpg\u001b[00m\r\n",
      "│   │   ├── \u001b[01;35m25.jpg\u001b[00m\r\n",
      "│   │   ├── \u001b[01;35m26.jpg\u001b[00m\r\n",
      "│   │   ├── \u001b[01;35m27.jpg\u001b[00m\r\n",
      "│   │   ├── \u001b[01;35m28.jpg\u001b[00m\r\n",
      "│   │   ├── \u001b[01;35m29.jpg\u001b[00m\r\n",
      "│   │   ├── \u001b[01;35m2.jpg\u001b[00m\r\n",
      "│   │   ├── \u001b[01;35m30.jpg\u001b[00m\r\n",
      "│   │   ├── \u001b[01;35m31.jpg\u001b[00m\r\n",
      "│   │   ├── \u001b[01;35m32.jpg\u001b[00m\r\n",
      "│   │   ├── \u001b[01;35m33.jpg\u001b[00m\r\n",
      "│   │   ├── \u001b[01;35m34.jpg\u001b[00m\r\n",
      "│   │   ├── \u001b[01;35m35.jpg\u001b[00m\r\n",
      "│   │   ├── \u001b[01;35m36.jpg\u001b[00m\r\n",
      "│   │   ├── \u001b[01;35m37.jpg\u001b[00m\r\n",
      "│   │   ├── \u001b[01;35m38.jpg\u001b[00m\r\n",
      "│   │   ├── \u001b[01;35m39.jpg\u001b[00m\r\n",
      "│   │   ├── \u001b[01;35m3.jpg\u001b[00m\r\n",
      "│   │   ├── \u001b[01;35m40.jpg\u001b[00m\r\n",
      "│   │   ├── \u001b[01;35m41.jpg\u001b[00m\r\n",
      "│   │   ├── \u001b[01;35m42.jpg\u001b[00m\r\n",
      "│   │   ├── \u001b[01;35m43.jpg\u001b[00m\r\n",
      "│   │   ├── \u001b[01;35m44.jpg\u001b[00m\r\n",
      "│   │   ├── \u001b[01;35m45.jpg\u001b[00m\r\n",
      "│   │   ├── \u001b[01;35m46.jpg\u001b[00m\r\n",
      "│   │   ├── \u001b[01;35m47.jpg\u001b[00m\r\n",
      "│   │   ├── \u001b[01;35m48.jpg\u001b[00m\r\n",
      "│   │   ├── \u001b[01;35m49.jpg\u001b[00m\r\n",
      "│   │   ├── \u001b[01;35m4.jpg\u001b[00m\r\n",
      "│   │   ├── \u001b[01;35m5.jpg\u001b[00m\r\n",
      "│   │   ├── \u001b[01;35m6.jpg\u001b[00m\r\n",
      "│   │   ├── \u001b[01;35m7.jpg\u001b[00m\r\n",
      "│   │   ├── \u001b[01;35m8.jpg\u001b[00m\r\n",
      "│   │   └── \u001b[01;35m9.jpg\u001b[00m\r\n",
      "│   └── \u001b[01;34mLion\u001b[00m\r\n",
      "│       ├── \u001b[01;35m0.jpg\u001b[00m\r\n",
      "│       ├── \u001b[01;35m10.jpg\u001b[00m\r\n",
      "│       ├── \u001b[01;35m11.jpg\u001b[00m\r\n",
      "│       ├── \u001b[01;35m12.jpg\u001b[00m\r\n",
      "│       ├── \u001b[01;35m13.jpg\u001b[00m\r\n",
      "│       ├── \u001b[01;35m14.jpg\u001b[00m\r\n",
      "│       ├── \u001b[01;35m15.jpg\u001b[00m\r\n",
      "│       ├── \u001b[01;35m16.jpg\u001b[00m\r\n",
      "│       ├── \u001b[01;35m17.jpg\u001b[00m\r\n",
      "│       ├── \u001b[01;35m18.jpg\u001b[00m\r\n",
      "│       ├── \u001b[01;35m19.jpg\u001b[00m\r\n",
      "│       ├── \u001b[01;35m1.jpg\u001b[00m\r\n",
      "│       ├── \u001b[01;35m20.jpg\u001b[00m\r\n",
      "│       ├── \u001b[01;35m21.jpg\u001b[00m\r\n",
      "│       ├── \u001b[01;35m22.jpg\u001b[00m\r\n",
      "│       ├── \u001b[01;35m23.jpg\u001b[00m\r\n",
      "│       ├── \u001b[01;35m24.jpg\u001b[00m\r\n",
      "│       ├── \u001b[01;35m25.jpg\u001b[00m\r\n",
      "│       ├── \u001b[01;35m26.jpg\u001b[00m\r\n",
      "│       ├── \u001b[01;35m27.jpg\u001b[00m\r\n",
      "│       ├── \u001b[01;35m28.jpg\u001b[00m\r\n",
      "│       ├── \u001b[01;35m29.jpg\u001b[00m\r\n",
      "│       ├── \u001b[01;35m2.jpg\u001b[00m\r\n",
      "│       ├── \u001b[01;35m30.jpg\u001b[00m\r\n",
      "│       ├── \u001b[01;35m31.jpg\u001b[00m\r\n",
      "│       ├── \u001b[01;35m32.jpg\u001b[00m\r\n",
      "│       ├── \u001b[01;35m33.jpg\u001b[00m\r\n",
      "│       ├── \u001b[01;35m34.jpg\u001b[00m\r\n",
      "│       ├── \u001b[01;35m35.jpg\u001b[00m\r\n",
      "│       ├── \u001b[01;35m36.jpg\u001b[00m\r\n",
      "│       ├── \u001b[01;35m37.jpg\u001b[00m\r\n",
      "│       ├── \u001b[01;35m38.jpg\u001b[00m\r\n",
      "│       ├── \u001b[01;35m39.jpg\u001b[00m\r\n",
      "│       ├── \u001b[01;35m3.jpg\u001b[00m\r\n",
      "│       ├── \u001b[01;35m40.jpg\u001b[00m\r\n",
      "│       ├── \u001b[01;35m41.jpg\u001b[00m\r\n",
      "│       ├── \u001b[01;35m42.jpg\u001b[00m\r\n",
      "│       ├── \u001b[01;35m43.jpg\u001b[00m\r\n",
      "│       ├── \u001b[01;35m44.jpg\u001b[00m\r\n",
      "│       ├── \u001b[01;35m45.jpg\u001b[00m\r\n",
      "│       ├── \u001b[01;35m46.jpg\u001b[00m\r\n",
      "│       ├── \u001b[01;35m47.jpg\u001b[00m\r\n",
      "│       ├── \u001b[01;35m48.jpg\u001b[00m\r\n",
      "│       ├── \u001b[01;35m49.jpg\u001b[00m\r\n",
      "│       ├── \u001b[01;35m4.jpg\u001b[00m\r\n",
      "│       ├── \u001b[01;35m5.jpg\u001b[00m\r\n",
      "│       ├── \u001b[01;35m6.jpg\u001b[00m\r\n",
      "│       ├── \u001b[01;35m7.jpg\u001b[00m\r\n",
      "│       ├── \u001b[01;35m8.jpg\u001b[00m\r\n",
      "│       └── \u001b[01;35m9.jpg\u001b[00m\r\n",
      "└── \u001b[01;34mOutput\u001b[00m\r\n",
      "\r\n",
      "5 directories, 151 files\r\n"
     ]
    }
   ],
   "source": [
    "! tree ."
   ]
  },
  {
   "cell_type": "code",
   "execution_count": null,
   "id": "7c7bb36f",
   "metadata": {},
   "outputs": [],
   "source": [
    "# Split the folder into train and validation folder"
   ]
  },
  {
   "cell_type": "code",
   "execution_count": 9,
   "id": "48e565cf",
   "metadata": {},
   "outputs": [
    {
     "name": "stderr",
     "output_type": "stream",
     "text": [
      "Copying files: 150 files [00:00, 5155.62 files/s]\n"
     ]
    }
   ],
   "source": [
    "input_dir=\"./images/\"\n",
    "output_dir=\"./Output/\"\n",
    "\n",
    "splitfolders.ratio(input_dir, # The location of dataset\n",
    "                   output=output_dir, # The output location\n",
    "                   seed=42, # The number of seed\n",
    "                   ratio=(.8, .2), # The ratio of splited dataset\n",
    "                   group_prefix=None, # If your dataset contains more than one file like \".jpg\", \".pdf\", etc\n",
    "                   move=False) # If you choose to move, turn this into True"
   ]
  },
  {
   "cell_type": "code",
   "execution_count": null,
   "id": "f67587b2",
   "metadata": {},
   "outputs": [],
   "source": []
  }
 ],
 "metadata": {
  "kernelspec": {
   "display_name": "Python 3 (ipykernel)",
   "language": "python",
   "name": "python3"
  },
  "language_info": {
   "codemirror_mode": {
    "name": "ipython",
    "version": 3
   },
   "file_extension": ".py",
   "mimetype": "text/x-python",
   "name": "python",
   "nbconvert_exporter": "python",
   "pygments_lexer": "ipython3",
   "version": "3.8.13"
  },
  "toc": {
   "base_numbering": 1,
   "nav_menu": {},
   "number_sections": true,
   "sideBar": true,
   "skip_h1_title": false,
   "title_cell": "Table of Contents",
   "title_sidebar": "Contents",
   "toc_cell": false,
   "toc_position": {},
   "toc_section_display": true,
   "toc_window_display": false
  }
 },
 "nbformat": 4,
 "nbformat_minor": 5
}
